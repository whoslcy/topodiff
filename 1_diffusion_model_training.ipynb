{
 "cells": [
  {
   "cell_type": "markdown",
   "id": "0b63a336",
   "metadata": {},
   "source": [
    "# Diffusion model training"
   ]
  },
  {
   "cell_type": "markdown",
   "id": "83534315",
   "metadata": {},
   "source": [
    "#### This notebook aims to launch the training of the main diffusion model. It does not train the classifier and regressor that are used to perform *classifier* and *regressor guidance*. The trainings of the three models (diffusion model, regressor and classifier) are independant."
   ]
  },
  {
   "cell_type": "code",
   "execution_count": null,
   "id": "62e82787",
   "metadata": {},
   "outputs": [],
   "source": [
    "import os"
   ]
  },
  {
   "cell_type": "markdown",
   "id": "76386936",
   "metadata": {},
   "source": [
    "The environment variable 'TOPODIFF_LOGDIR' defines the directory where the logs and model checkpoints will be saved."
   ]
  },
  {
   "cell_type": "code",
   "execution_count": null,
   "id": "c7dd10fb",
   "metadata": {},
   "outputs": [],
   "source": [
    "os.environ['TOPODIFF_LOGDIR'] = './diff_logdir'"
   ]
  },
  {
   "cell_type": "markdown",
   "id": "c0dee131",
   "metadata": {},
   "source": [
    "The 'TRAIN FLAGS', 'MODEL_FLAGS', 'DIFFUSION_FLAGS' and 'DATA_FLAGS' respectively set the training parameters, the model and diffusion hyperparameters and the directories where the training data are.\n",
    "\n",
    "The default values indicated below correspond to the hyperparameters indicated in the Appendix to the paper."
   ]
  },
  {
   "cell_type": "code",
   "execution_count": null,
   "id": "114c87e5",
   "metadata": {},
   "outputs": [],
   "source": [
    "TRAIN_FLAGS=\"--batch_size 32 --save_interval 20000 --use_fp16 True\"\n",
    "MODEL_FLAGS=\"--image_size 64 --num_channels 128 --num_res_blocks 3 --learn_sigma True --dropout 0.3\"\n",
    "DIFFUSION_FLAGS=\"--diffusion_steps 1000 --noise_schedule cosine\""
   ]
  },
  {
   "cell_type": "markdown",
   "id": "110d80c5",
   "metadata": {},
   "source": [
    "In order to run the training, make sure you have placed the data folder at the root of this directory.\n",
    "\n",
    "All the images, physical fields, and load arrays must be altogether in the same folder (done by default in the data directory that we provide you with)."
   ]
  },
  {
   "cell_type": "code",
   "execution_count": null,
   "id": "7db9347f",
   "metadata": {},
   "outputs": [],
   "source": [
    "DATA_FLAGS=\"--data_dir ./data/dataset_1_diff/training_data\""
   ]
  },
  {
   "cell_type": "code",
   "execution_count": null,
   "id": "fc9ea4ea",
   "metadata": {},
   "outputs": [],
   "source": [
    "%run scripts/image_train.py $MODEL_FLAGS $DIFFUSION_FLAGS $TRAIN_FLAGS $DATA_FLAGS"
   ]
  },
  {
   "cell_type": "markdown",
   "id": "95b0f4ff",
   "metadata": {},
   "source": [
    "By the end of the training, you should get in the diff_logdir a series of checkpoints. You can then use the last checkpoint as the difusion model when sampling from TopoDiff (see the notebook **4_TopoDiff_sample**)."
   ]
  }
 ],
 "metadata": {
  "kernelspec": {
   "display_name": "topodiff",
   "language": "python",
   "name": "python3"
  },
  "language_info": {
   "codemirror_mode": {
    "name": "ipython",
    "version": 3
   },
   "file_extension": ".py",
   "mimetype": "text/x-python",
   "name": "python",
   "nbconvert_exporter": "python",
   "pygments_lexer": "ipython3",
   "version": "3.12.8"
  }
 },
 "nbformat": 4,
 "nbformat_minor": 5
}
