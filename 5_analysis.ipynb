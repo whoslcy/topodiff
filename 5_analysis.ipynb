{
 "cells": [
  {
   "cell_type": "markdown",
   "id": "4fc8a283",
   "metadata": {},
   "source": [
    "# Analysis of TopoDiff's results"
   ]
  },
  {
   "cell_type": "markdown",
   "id": "7e569d7e",
   "metadata": {},
   "source": [
    "#### This notebook aims to analyze the generated topologies by TopoDiff. In line with the evaluation metrics defined in the paper, it computes for every sample the compliance error relative to SIMP, the volume fraction error relative to the input, the load disrespect indicator and the floating material indicator."
   ]
  },
  {
   "cell_type": "code",
   "execution_count": null,
   "id": "02635287",
   "metadata": {},
   "outputs": [],
   "source": [
    "from topodiff import topodiff_analysis\n",
    "import numpy as np"
   ]
  },
  {
   "cell_type": "markdown",
   "id": "afd251af",
   "metadata": {},
   "source": [
    "The variable 'constraints' contains the raw input constraints and 'gen_dir' indicates the path of the directory containing the generated topologies."
   ]
  },
  {
   "cell_type": "markdown",
   "id": "a9d48f68",
   "metadata": {},
   "source": [
    "**You may change level 1 to level 2 in the constraints loading according to the level you used to sample.**"
   ]
  },
  {
   "cell_type": "code",
   "execution_count": null,
   "id": "b9413b4a",
   "metadata": {},
   "outputs": [],
   "source": [
    "constraints = np.load(f\"./data/dataset_1_diff/test_data_level_1_summary.npy\", allow_pickle = True, encoding = 'latin1')\n",
    "gen_dir = \"./generated/\""
   ]
  },
  {
   "cell_type": "code",
   "execution_count": null,
   "id": "5b8fc0bf",
   "metadata": {},
   "outputs": [],
   "source": [
    "# Number of generated samples\n",
    "num_samples = 5\n",
    "\n",
    "#Number of topologies in the test dataset (180 for level 1 ; 100 for level 2)\n",
    "num_folder = 180"
   ]
  },
  {
   "cell_type": "markdown",
   "id": "e0452269",
   "metadata": {},
   "source": [
    "The function 'topodiff_analysis' returns a tuple of four arrays, of size 'num_samples' :\n",
    "- The first array contains the compliance of the analyzed topologies;\n",
    "- The second array contains booleans that indicate the load disrespect (LD), i.e. it checks if there is material at every point where a load is applied. 0 indicates all loads are respected; 1 indicates that at least one load is not respected;\n",
    "- The third array contains the volume fraction error (VFE) relative to the prescribed volume fraction;\n",
    "- The fourth array indicates the presence of floating material (FM). 0 indicates the absence of floating material; 1 indicates that there is floating material."
   ]
  },
  {
   "cell_type": "code",
   "execution_count": null,
   "id": "70cceb1b",
   "metadata": {},
   "outputs": [],
   "source": [
    "analysis = topodiff_analysis.topodiff_analysis(num_samples, num_folder, constraints, gen_dir)"
   ]
  },
  {
   "cell_type": "markdown",
   "id": "c8535608",
   "metadata": {},
   "source": [
    "To compute the compliance error (CE), we need the compliance of the reference topology obtained via SIMP."
   ]
  },
  {
   "cell_type": "markdown",
   "id": "ec91cf9b",
   "metadata": {},
   "source": [
    "**You may change level 1 to level 2 in the optimal compliance loading according to the level you used to sample.**"
   ]
  },
  {
   "cell_type": "code",
   "execution_count": null,
   "id": "aed2a1aa",
   "metadata": {},
   "outputs": [],
   "source": [
    "compliance_opt = np.load(f\"./data/dataset_1_diff/test_data_level_1_compliance.npy\")"
   ]
  },
  {
   "cell_type": "code",
   "execution_count": null,
   "id": "99784c6c",
   "metadata": {},
   "outputs": [],
   "source": [
    "compliance_opt = topodiff_analysis.re_order_tab(num_samples, num_folder, compliance_opt)"
   ]
  },
  {
   "cell_type": "markdown",
   "id": "55d85629",
   "metadata": {},
   "source": [
    "We then compute the relative compliance error:"
   ]
  },
  {
   "cell_type": "code",
   "execution_count": null,
   "id": "8b18a790",
   "metadata": {},
   "outputs": [],
   "source": [
    "analysis_relative = (analysis[0]/compliance_opt - 1, analysis[1], analysis[2], analysis[3])"
   ]
  },
  {
   "cell_type": "markdown",
   "id": "49565bca",
   "metadata": {},
   "source": [
    "Th final results of the analysis:"
   ]
  },
  {
   "cell_type": "code",
   "execution_count": null,
   "id": "3b955a90",
   "metadata": {},
   "outputs": [],
   "source": [
    "topodiff_analysis.print_results(analysis_relative)"
   ]
  }
 ],
 "metadata": {
  "kernelspec": {
   "display_name": "base",
   "language": "python",
   "name": "python3"
  },
  "language_info": {
   "codemirror_mode": {
    "name": "ipython",
    "version": 3
   },
   "file_extension": ".py",
   "mimetype": "text/x-python",
   "name": "python",
   "nbconvert_exporter": "python",
   "pygments_lexer": "ipython3",
   "version": "3.12.8"
  }
 },
 "nbformat": 4,
 "nbformat_minor": 5
}
