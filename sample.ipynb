{
 "cells": [
  {
   "cell_type": "markdown",
   "metadata": {},
   "source": [
    "# Setup"
   ]
  },
  {
   "cell_type": "code",
   "execution_count": 1,
   "metadata": {},
   "outputs": [],
   "source": [
    "import create_models\n",
    "from pathlib import Path\n",
    "import torch\n",
    "import torch.nn.functional as F\n",
    "import numpy as np\n",
    "import matplotlib.pyplot as plt\n",
    "\n",
    "%matplotlib inline"
   ]
  },
  {
   "cell_type": "markdown",
   "metadata": {},
   "source": [
    "# Models"
   ]
  },
  {
   "cell_type": "markdown",
   "metadata": {},
   "source": [
    "## Initialization"
   ]
  },
  {
   "cell_type": "code",
   "execution_count": 2,
   "metadata": {},
   "outputs": [],
   "source": [
    "image_size = 64\n",
    "\n",
    "mean_variance = create_models.mean_variance()\n",
    "diffusion = create_models.spaced_diffusion()\n",
    "regressor = create_models.regressor()\n",
    "classifier = create_models.classifier()"
   ]
  },
  {
   "cell_type": "markdown",
   "metadata": {},
   "source": [
    "## Loading Checkpoints"
   ]
  },
  {
   "cell_type": "code",
   "execution_count": null,
   "metadata": {},
   "outputs": [],
   "source": [
    "checkpoints_path = Path(r\".\\checkpoints\")\n",
    "cpu = torch.cpu.current_device()\n",
    "gpu = torch.cuda.current_device()\n",
    "def get_state_dict(path: Path):\n",
    "    return torch.load(path, map_location=cpu, weights_only=True)\n",
    "\n",
    "mean_variance_path = checkpoints_path / \"diff_checkpoint\" / \"model_180000.pt\"\n",
    "mean_variance.load_state_dict(get_state_dict(mean_variance_path))\n",
    "mean_variance.to(gpu)\n",
    "mean_variance.convert_to_fp16()\n",
    "mean_variance.eval()\n",
    "\n",
    "regressor_path = checkpoints_path / \"reg_checkpoint\" / \"model_350000.pt\"\n",
    "regressor.load_state_dict(get_state_dict(regressor_path))\n",
    "regressor.to(gpu)\n",
    "regressor.eval()\n",
    "\n",
    "classifier_path = checkpoints_path / \"class_checkpoint\" / \"model_299999.pt\"\n",
    "classifier.load_state_dict(get_state_dict(classifier_path))\n",
    "classifier.to(gpu)\n",
    "classifier.eval()"
   ]
  },
  {
   "cell_type": "markdown",
   "metadata": {},
   "source": [
    "# Sampling"
   ]
  },
  {
   "cell_type": "code",
   "execution_count": 8,
   "metadata": {},
   "outputs": [],
   "source": [
    "batch_size = 1\n",
    "channel_count = 1\n",
    "shape = (batch_size, channel_count, image_size, image_size)\n",
    "\n",
    "def cond_fn_1(x: torch.Tensor, time_steps: torch.Tensor):\n",
    "    with torch.enable_grad():\n",
    "        x_in = x.detach().requires_grad_()\n",
    "        logits = regressor(x_in, time_steps)\n",
    "        grad = torch.autograd.grad(logits.sum(), x_in)[0]\n",
    "        return (-1) * grad[:,0,:,:].reshape(shape) * 4.0\n",
    "\n",
    "def cond_fn_2(x: torch.Tensor, time_steps: torch.Tensor):\n",
    "    with torch.enable_grad():\n",
    "        x_in = x.detach().requires_grad_()\n",
    "        logits: torch.Tensor = classifier(x_in, time_steps)\n",
    "        log_probs = F.log_softmax(logits, dim=-1)\n",
    "        selected = log_probs[range(len(logits)), 1]\n",
    "        grad = torch.autograd.grad(selected.sum(), x_in)[0]\n",
    "        return grad[:,0,:,:].reshape(shape) * 3.0\n",
    "\n",
    "\n",
    "def get_boundary_condition(condition_name: str):\n",
    "    folder = Path(r\".\\data\\dataset_1_diff\\test_data_level_1\")\n",
    "    path = folder / f\"cons_{condition_name}_array_200.npy\"\n",
    "    ndarray = np.transpose(np.load(path), [2, 0, 1]).astype(np.float32)\n",
    "    tensor = torch.unsqueeze(torch.as_tensor(ndarray), 0) # Add batch size dimension\n",
    "    return tensor.to(gpu)\n",
    "\n",
    "sample = diffusion.p_sample_loop(\n",
    "    model=mean_variance,\n",
    "    shape=shape,\n",
    "    cons=get_boundary_condition(\"pf\"),\n",
    "    loads=get_boundary_condition(\"load\"),\n",
    "    BCs=get_boundary_condition(\"bc\"),\n",
    "    noise=None,\n",
    "    clip_denoised=True,\n",
    "    denoised_fn=None,\n",
    "    cond_fn_1=cond_fn_1,\n",
    "    cond_fn_2=cond_fn_2,\n",
    "    model_kwargs={},\n",
    "    device=gpu,\n",
    "    progress=False,\n",
    ")"
   ]
  },
  {
   "cell_type": "code",
   "execution_count": null,
   "metadata": {},
   "outputs": [],
   "source": [
    "plt.imshow(sample[0,0,:,:].cpu().detach().numpy(), cmap=\"gray\")"
   ]
  }
 ],
 "metadata": {
  "kernelspec": {
   "display_name": "topodiff",
   "language": "python",
   "name": "python3"
  },
  "language_info": {
   "codemirror_mode": {
    "name": "ipython",
    "version": 3
   },
   "file_extension": ".py",
   "mimetype": "text/x-python",
   "name": "python",
   "nbconvert_exporter": "python",
   "pygments_lexer": "ipython3",
   "version": "3.12.8"
  }
 },
 "nbformat": 4,
 "nbformat_minor": 2
}
