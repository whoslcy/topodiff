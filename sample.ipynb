{
 "cells": [
  {
   "cell_type": "markdown",
   "metadata": {},
   "source": [
    "# Setup"
   ]
  },
  {
   "cell_type": "code",
   "execution_count": null,
   "metadata": {},
   "outputs": [],
   "source": [
    "from pathlib import Path\n",
    "from topodiff.script_util import create_model, create_gaussian_diffusion, create_regressor, create_classifier"
   ]
  },
  {
   "cell_type": "markdown",
   "metadata": {},
   "source": [
    "# Create models"
   ]
  },
  {
   "cell_type": "code",
   "execution_count": null,
   "metadata": {},
   "outputs": [],
   "source": [
    "checkpoints = Path(\"./checkpoints\")\n",
    "mean_variance = checkpoints / \"diff_checkpoints\" / \"model_180000.pt\"\n",
    "regressor = checkpoints / \"reg_checkpoint\" / \"model_350000.pt\"\n",
    "classifier = checkpoints / \"class_checkpoint\" / \"model_299999.pt\"\n",
    "\n",
    "mean_variance = create_model(\n",
    "  image_size=64,\n",
    "  num_channels=128,\n",
    "  num_res_blocks=3,\n",
    "  channel_mult=\"\",\n",
    "  learn_sigma=True,\n",
    "  use_checkpoint=True,\n",
    "  attention_resolutions=\"16\",\n",
    "  num_heads=1,\n",
    "  dropout=0.3,\n",
    "  use_fp16=True,\n",
    "  \n",
    ")\n",
    "diffusion = create_gaussian_diffusion(\n",
    "  diffusion_steps=1000,\n",
    "  timestep_respacing=100,\n",
    "  noise_schedule=\"cosine\",\n",
    ")\n",
    "\n",
    "regressor = create_regressor(\n",
    "  regressor_depth=4,\n",
    "  in_channels=1+3+2+2,\n",
    ")\n",
    "\n",
    "classifier = create_classifier(\n",
    "  in_channels=1,\n",
    ")\n",
    "\n",
    "\n",
    "regressor_scale = 4.0\n",
    "classifier_scale = 3.0\n",
    "  "
   ]
  }
 ],
 "metadata": {
  "kernelspec": {
   "display_name": "topodiff",
   "language": "python",
   "name": "python3"
  },
  "language_info": {
   "name": "python",
   "version": "3.12.8"
  }
 },
 "nbformat": 4,
 "nbformat_minor": 2
}
