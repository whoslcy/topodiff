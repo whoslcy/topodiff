{
 "cells": [
  {
   "cell_type": "markdown",
   "metadata": {},
   "source": [
    "# Setup"
   ]
  },
  {
   "cell_type": "code",
   "execution_count": null,
   "metadata": {},
   "outputs": [],
   "source": [
    "import torch\n",
    "import torch.nn.functional as F\n",
    "from pathlib import Path\n",
    "import create_models"
   ]
  },
  {
   "cell_type": "markdown",
   "metadata": {},
   "source": [
    "# Models"
   ]
  },
  {
   "cell_type": "markdown",
   "metadata": {},
   "source": [
    "## Initialization"
   ]
  },
  {
   "cell_type": "code",
   "execution_count": null,
   "metadata": {},
   "outputs": [],
   "source": [
    "image_size = 64\n",
    "\n",
    "mean_variance = create_models.mean_variance(\n",
    "    image_size=image_size,\n",
    "    num_channels=128,\n",
    "    num_res_blocks=3,\n",
    "    channel_mult=\"4\",\n",
    "    learn_sigma=True,\n",
    "    use_checkpoint=False,\n",
    "    attention_resolutions=\"16,8\",\n",
    "    num_heads=4,\n",
    "    num_head_channels=-1,\n",
    "    num_heads_upsample=-1,\n",
    "    use_scale_shift_norm=True,\n",
    "    dropout=0.3,\n",
    "    resblock_updown=False,\n",
    "    use_fp16=True,\n",
    "    use_new_attention_order=False,\n",
    ")\n",
    "diffusion = create_models.gaussian_diffusion(\n",
    "    steps=1000,\n",
    "    learn_sigma=True,\n",
    "    sigma_small=False,\n",
    "    noise_schedule=\"cosine\",\n",
    "    use_kl=False,\n",
    "    predict_xstart=False,\n",
    "    rescale_timesteps=False,\n",
    "    rescale_learned_sigmas=False,\n",
    "    timestep_respacing=\"100\",\n",
    ")\n",
    "regressor = create_models.regressor(\n",
    "    image_size=image_size,\n",
    "    in_channels=1 + 3 + 2 + 2,\n",
    "    regressor_use_fp16=False,\n",
    "    regressor_width=128,\n",
    "    regressor_depth=4,\n",
    "    regressor_attention_resolutions=\"32,16,8\",\n",
    "    regressor_use_scale_shift_norm=True,\n",
    "    regressor_resblock_updown=True,\n",
    "    regressor_pool=\"spatial\",\n",
    ")\n",
    "classifier = create_models.classifier(\n",
    "    image_size=image_size,\n",
    "    in_channels=1,\n",
    "    classifier_use_fp16=False,\n",
    "    classifier_width=128,\n",
    "    classifier_depth=2,\n",
    "    classifier_attention_resolutions=\"32,16,8\",\n",
    "    classifier_use_scale_shift_norm=True,\n",
    "    classifier_resblock_updown=True,\n",
    "    classifier_pool=\"attention\",\n",
    ")"
   ]
  },
  {
   "cell_type": "markdown",
   "metadata": {},
   "source": [
    "## Tuning"
   ]
  },
  {
   "cell_type": "code",
   "execution_count": null,
   "metadata": {},
   "outputs": [],
   "source": [
    "checkpoints_path = Path(\"./checkpoints\")\n",
    "cpu = torch.cpu.current_device()\n",
    "gpu = torch.cuda.current_device()\n",
    "\n",
    "mean_variance_path = checkpoints_path / \"diff_checkpoints\" / \"model_180000.pt\"\n",
    "mean_variance.load_state_dict(torch.load(mean_variance_path, map_location=cpu))\n",
    "mean_variance.to(gpu)\n",
    "mean_variance.convert_to_fp16()\n",
    "mean_variance.eval()\n",
    "\n",
    "regressor_path = checkpoints_path / \"reg_checkpoint\" / \"model_350000.pt\"\n",
    "regressor.load_state_dict(torch.load(regressor_path, map_location=cpu))\n",
    "regressor.to(gpu)\n",
    "regressor.eval()\n",
    "\n",
    "classifier_path = checkpoints_path / \"class_checkpoint\" / \"model_299999.pt\"\n",
    "classifier.load_state_dict(torch.load(classifier_path, map_location=cpu))\n",
    "classifier.to(gpu)\n",
    "classifier.eval()"
   ]
  },
  {
   "cell_type": "markdown",
   "metadata": {},
   "source": [
    "# Data"
   ]
  },
  {
   "cell_type": "markdown",
   "metadata": {},
   "source": [
    "# Sampling"
   ]
  },
  {
   "cell_type": "code",
   "execution_count": null,
   "metadata": {},
   "outputs": [],
   "source": [
    "# (batch size, channel count, height, width)\n",
    "shape = (1, 1, image_size, image_size)\n",
    "\n",
    "def cond_fn_1(x: torch.Tensor, time_steps: torch.Tensor):\n",
    "    with torch.enable_grad():\n",
    "        x_in = x.detach().requires_grad_()\n",
    "        logits = regressor(x_in, time_steps)\n",
    "        grad = torch.autograd.grad(logits.sum(), x_in)[0]\n",
    "        return (-1) * grad[:,0,:,:].reshape(shape) * 4.0\n",
    "\n",
    "def cond_fn_2(x: torch.Tensor, time_steps: torch.Tensor):\n",
    "    with torch.enable_grad():\n",
    "        y = np.array([1], dtype = int)\n",
    "        x_in = x.detach().requires_grad_()\n",
    "        logits = classifier(x_in, time_steps)\n",
    "        log_probabilities = F.log_softmax(logits, dim=-1)\n",
    "        selected = log_probabilities[range(len(logits)), y.view()]\n",
    "        grad = torch.autograd.grad(selected.sum(), x_in)[0]\n",
    "        return grad[:,0,:,:].reshape(shape) * 3.0\n",
    "\n",
    "sample = diffusion.p_sample_loop(\n",
    "    model=mean_variance,\n",
    "    shape=(1, 1, image_size, image_size),\n",
    "    cons,\n",
    "    loads,\n",
    "    BCs,\n",
    "    noise=None,\n",
    "    clip_denoised=True,\n",
    "    denoised_fn=None,\n",
    "    cond_fn_1=None,\n",
    "    cond_fn_2=None,\n",
    "    model_kwargs=None,\n",
    "    device=gpu,\n",
    "    progress=False,\n",
    ")"
   ]
  }
 ],
 "metadata": {
  "kernelspec": {
   "display_name": "topodiff",
   "language": "python",
   "name": "python3"
  },
  "language_info": {
   "codemirror_mode": {
    "name": "ipython",
    "version": 3
   },
   "file_extension": ".py",
   "mimetype": "text/x-python",
   "name": "python",
   "nbconvert_exporter": "python",
   "pygments_lexer": "ipython3",
   "version": "3.12.8"
  }
 },
 "nbformat": 4,
 "nbformat_minor": 2
}
