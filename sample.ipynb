{
 "cells": [
  {
   "cell_type": "markdown",
   "metadata": {},
   "source": [
    "# Setup"
   ]
  },
  {
   "cell_type": "code",
   "execution_count": null,
   "metadata": {},
   "outputs": [],
   "source": [
    "from pathlib import Path\n",
    "import torch\n",
    "import torch.nn.functional as F\n",
    "import numpy as np\n",
    "import matplotlib.pyplot as plt\n",
    "from topodiff.unet import UNetModel, EncoderUNetModel\n",
    "from topodiff import gaussian_diffusion as gd\n",
    "from topodiff.respace import SpacedDiffusion, space_timesteps\n",
    "from typing import List\n",
    "import math\n",
    "\n",
    "%matplotlib inline"
   ]
  },
  {
   "cell_type": "markdown",
   "metadata": {},
   "source": [
    "# Models"
   ]
  },
  {
   "cell_type": "markdown",
   "metadata": {},
   "source": [
    "## Initialization"
   ]
  },
  {
   "cell_type": "code",
   "execution_count": null,
   "metadata": {},
   "outputs": [],
   "source": [
    "def alpha_bar(t):\n",
    "    return math.cos((t + 0.008) / 1.008 * math.pi / 2) ** 2\n",
    "\n",
    "\n",
    "steps = 1000\n",
    "betas = np.zeros(steps)\n",
    "for i in range(steps):\n",
    "    t1 = i / steps\n",
    "    t2 = (i + 1) / steps\n",
    "    betas[i] = min(1 - alpha_bar(t2) / alpha_bar(t1), 0.999)\n",
    "\n",
    "diffusion = SpacedDiffusion(\n",
    "    use_timesteps=space_timesteps(steps, [100]),\n",
    "    betas=betas,\n",
    "    model_mean_type=gd.ModelMeanType.EPSILON,\n",
    "    model_var_type=gd.ModelVarType.LEARNED_RANGE,\n",
    "    loss_type=gd.LossType.MSE,\n",
    "    rescale_timesteps=False,\n",
    ")\n",
    "\n",
    "image_size = 64\n",
    "channel_multiplier = (1, 2, 3, 4)\n",
    "\n",
    "\n",
    "def get_attention_resolutions(attention_resolutions: List):\n",
    "    return tuple(image_size // resolution for resolution in attention_resolutions)\n",
    "\n",
    "\n",
    "mean_variance = UNetModel(\n",
    "    image_size=image_size,\n",
    "    in_channels=6,\n",
    "    model_channels=128,\n",
    "    out_channels=2,\n",
    "    num_res_blocks=3,\n",
    "    attention_resolutions=get_attention_resolutions([16, 8]),\n",
    "    dropout=0.3,\n",
    "    channel_mult=channel_multiplier,\n",
    "    use_fp16=True,\n",
    "    num_heads=4,\n",
    "    use_scale_shift_norm=True,\n",
    ")\n",
    "\n",
    "regressor = EncoderUNetModel(\n",
    "    image_size=image_size,\n",
    "    in_channels=8,\n",
    "    model_channels=128,\n",
    "    out_channels=1,\n",
    "    num_res_blocks=4,\n",
    "    attention_resolutions=get_attention_resolutions([32, 16, 8]),\n",
    "    channel_mult=channel_multiplier,\n",
    "    use_fp16=False,\n",
    "    num_head_channels=64,\n",
    "    use_scale_shift_norm=True,\n",
    "    resblock_updown=True,\n",
    "    pool=\"spatial\",\n",
    ")\n",
    "\n",
    "classifier = EncoderUNetModel(\n",
    "    image_size=image_size,\n",
    "    in_channels=1,\n",
    "    model_channels=128,\n",
    "    out_channels=2,\n",
    "    num_res_blocks=2,\n",
    "    attention_resolutions=get_attention_resolutions([32, 16, 8]),\n",
    "    channel_mult=channel_multiplier,\n",
    "    use_fp16=False,\n",
    "    num_head_channels=64,\n",
    "    use_scale_shift_norm=True,\n",
    "    resblock_updown=True,\n",
    "    pool=\"attention\",\n",
    ")"
   ]
  },
  {
   "cell_type": "markdown",
   "metadata": {},
   "source": [
    "## Loading Checkpoints"
   ]
  },
  {
   "cell_type": "code",
   "execution_count": null,
   "metadata": {},
   "outputs": [],
   "source": [
    "checkpoints_path = Path(r\".\\checkpoints\")\n",
    "cpu = torch.cpu.current_device()\n",
    "gpu = torch.cuda.current_device()\n",
    "def get_state_dict(path: Path):\n",
    "    return torch.load(path, map_location=cpu, weights_only=True)\n",
    "\n",
    "mean_variance_path = checkpoints_path / \"diff_checkpoint\" / \"model_180000.pt\"\n",
    "mean_variance.load_state_dict(get_state_dict(mean_variance_path))\n",
    "mean_variance.to(gpu)\n",
    "mean_variance.convert_to_fp16()\n",
    "mean_variance.eval()\n",
    "\n",
    "regressor_path = checkpoints_path / \"reg_checkpoint\" / \"model_350000.pt\"\n",
    "regressor.load_state_dict(get_state_dict(regressor_path))\n",
    "regressor.to(gpu)\n",
    "regressor.eval()\n",
    "\n",
    "classifier_path = checkpoints_path / \"class_checkpoint\" / \"model_299999.pt\"\n",
    "classifier.load_state_dict(get_state_dict(classifier_path))\n",
    "classifier.to(gpu)\n",
    "classifier.eval()"
   ]
  },
  {
   "cell_type": "markdown",
   "metadata": {},
   "source": [
    "# Sampling"
   ]
  },
  {
   "cell_type": "code",
   "execution_count": 8,
   "metadata": {},
   "outputs": [],
   "source": [
    "batch_size = 1\n",
    "channel_count = 1\n",
    "shape = (batch_size, channel_count, image_size, image_size)\n",
    "\n",
    "def cond_fn_1(x: torch.Tensor, time_steps: torch.Tensor):\n",
    "    with torch.enable_grad():\n",
    "        x_in = x.detach().requires_grad_()\n",
    "        logits = regressor(x_in, time_steps)\n",
    "        grad = torch.autograd.grad(logits.sum(), x_in)[0]\n",
    "        return (-1) * grad[:,0,:,:].reshape(shape) * 4.0\n",
    "\n",
    "def cond_fn_2(x: torch.Tensor, time_steps: torch.Tensor):\n",
    "    with torch.enable_grad():\n",
    "        x_in = x.detach().requires_grad_()\n",
    "        logits: torch.Tensor = classifier(x_in, time_steps)\n",
    "        log_probs = F.log_softmax(logits, dim=-1)\n",
    "        selected = log_probs[range(len(logits)), 1]\n",
    "        grad = torch.autograd.grad(selected.sum(), x_in)[0]\n",
    "        return grad[:,0,:,:].reshape(shape) * 3.0\n",
    "\n",
    "\n",
    "def get_boundary_condition(condition_name: str):\n",
    "    folder = Path(r\".\\data\\dataset_1_diff\\test_data_level_1\")\n",
    "    path = folder / f\"cons_{condition_name}_array_200.npy\"\n",
    "    ndarray = np.transpose(np.load(path), [2, 0, 1]).astype(np.float32)\n",
    "    tensor = torch.unsqueeze(torch.as_tensor(ndarray), 0) # Add batch size dimension\n",
    "    return tensor.to(gpu)\n",
    "\n",
    "sample = diffusion.p_sample_loop(\n",
    "    model=mean_variance,\n",
    "    shape=shape,\n",
    "    cons=get_boundary_condition(\"pf\"),\n",
    "    loads=get_boundary_condition(\"load\"),\n",
    "    BCs=get_boundary_condition(\"bc\"),\n",
    "    noise=None,\n",
    "    clip_denoised=True,\n",
    "    denoised_fn=None,\n",
    "    cond_fn_1=cond_fn_1,\n",
    "    cond_fn_2=cond_fn_2,\n",
    "    model_kwargs={},\n",
    "    device=gpu,\n",
    "    progress=False,\n",
    ")"
   ]
  },
  {
   "cell_type": "code",
   "execution_count": null,
   "metadata": {},
   "outputs": [],
   "source": [
    "plt.imshow(sample[0,0,:,:].cpu().detach().numpy(), cmap=\"gray\")"
   ]
  }
 ],
 "metadata": {
  "kernelspec": {
   "display_name": "topodiff",
   "language": "python",
   "name": "python3"
  },
  "language_info": {
   "codemirror_mode": {
    "name": "ipython",
    "version": 3
   },
   "file_extension": ".py",
   "mimetype": "text/x-python",
   "name": "python",
   "nbconvert_exporter": "python",
   "pygments_lexer": "ipython3",
   "version": "3.12.8"
  }
 },
 "nbformat": 4,
 "nbformat_minor": 2
}
