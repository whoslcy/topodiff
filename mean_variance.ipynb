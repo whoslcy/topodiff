{
 "cells": [
  {
   "cell_type": "markdown",
   "metadata": {},
   "source": [
    "# Setup"
   ]
  },
  {
   "cell_type": "code",
   "execution_count": null,
   "metadata": {},
   "outputs": [],
   "source": [
    "import create_models\n",
    "from topodiff.resample import UniformSampler\n",
    "from topodiff.image_datasets_diffusion_model import load_data\n",
    "import torch"
   ]
  },
  {
   "cell_type": "markdown",
   "metadata": {},
   "source": [
    "# Model"
   ]
  },
  {
   "cell_type": "code",
   "execution_count": null,
   "metadata": {},
   "outputs": [],
   "source": [
    "image_size = 64\n",
    "\n",
    "mean_variance = create_models.mean_variance(\n",
    "    image_size=image_size,\n",
    "    num_channels=128,\n",
    "    num_res_blocks=3,\n",
    "    channel_mult=\"\",\n",
    "    learn_sigma=True,\n",
    "    use_checkpoint=False,\n",
    "    attention_resolutions=\"16,8\",\n",
    "    num_heads=4,\n",
    "    num_head_channels=-1,\n",
    "    num_heads_upsample=-1,\n",
    "    use_scale_shift_norm=True,\n",
    "    dropout=0.3,\n",
    "    resblock_updown=False,\n",
    "    use_fp16=True,\n",
    "    use_new_attention_order=False,\n",
    ")\n",
    "diffusion = create_models.gaussian_diffusion(\n",
    "    steps=1000,\n",
    "    learn_sigma=True,\n",
    "    sigma_small=False,\n",
    "    noise_schedule=\"cosine\",\n",
    "    use_kl=False,\n",
    "    predict_xstart=False,\n",
    "    rescale_timesteps=False,\n",
    "    rescale_learned_sigmas=False,\n",
    "    timestep_respacing=\"\",\n",
    ")\n",
    "schedule_sampler = UniformSampler(diffusion)\n",
    "\n",
    "device = (\n",
    "    \"cuda\"\n",
    "    if torch.cuda.is_available()\n",
    "    else \"mps\"\n",
    "    if torch.backends.mps.is_available()\n",
    "    else \"cpu\"\n",
    ")\n",
    "mean_variance.to(torch.cuda.current_device())\n",
    "torch.Tensor(1).to(device)"
   ]
  },
  {
   "cell_type": "markdown",
   "metadata": {},
   "source": [
    "# Data"
   ]
  },
  {
   "cell_type": "code",
   "execution_count": null,
   "metadata": {},
   "outputs": [],
   "source": [
    "data = load_data(\n",
    "  data_dir=r\".\\data\\dataset_1_diff\\training_data\",\n",
    "  batch_size=32,\n",
    "  image_size=image_size,\n",
    ")"
   ]
  },
  {
   "cell_type": "markdown",
   "metadata": {},
   "source": [
    "# Training"
   ]
  },
  {
   "cell_type": "code",
   "execution_count": null,
   "metadata": {},
   "outputs": [],
   "source": [
    "device = (\n",
    "    \"cuda\"\n",
    "    if torch.cuda.is_available()\n",
    "    else \"mps\"\n",
    "    if torch.backends.mps.is_available()\n",
    "    else \"cpu\"\n",
    ")\n",
    "\n",
    "image_batch, constraint_batch, _ = next(data)\n"
   ]
  }
 ],
 "metadata": {
  "kernelspec": {
   "display_name": "topodiff",
   "language": "python",
   "name": "python3"
  },
  "language_info": {
   "name": "python",
   "version": "3.12.8"
  }
 },
 "nbformat": 4,
 "nbformat_minor": 2
}
