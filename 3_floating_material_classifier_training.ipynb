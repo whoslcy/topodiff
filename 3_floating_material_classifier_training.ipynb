{
 "cells": [
  {
   "cell_type": "markdown",
   "id": "79880fac",
   "metadata": {},
   "source": [
    "# Floating material classifier training"
   ]
  },
  {
   "cell_type": "markdown",
   "id": "dcddf811",
   "metadata": {},
   "source": [
    "#### This notebook aims to launch the training of the classifier predicting the presence of floating material. This classifier is used in TopoDiff to guide the model in the direction of its gradient."
   ]
  },
  {
   "cell_type": "code",
   "execution_count": null,
   "id": "d5536140",
   "metadata": {},
   "outputs": [],
   "source": [
    "# import torch as th\n",
    "# import numpy as np\n",
    "# import matplotlib.pyplot as plt\n",
    "import os\n",
    "# import sys"
   ]
  },
  {
   "cell_type": "markdown",
   "id": "22264481",
   "metadata": {},
   "source": [
    "The environment variable 'TOPODIFF_LOGDIR' defines the directory where the logs and model checkpoints will be saved."
   ]
  },
  {
   "cell_type": "code",
   "execution_count": null,
   "id": "ec846f05",
   "metadata": {},
   "outputs": [],
   "source": [
    "os.environ['TOPODIFF_LOGDIR'] = './class_logdir'"
   ]
  },
  {
   "cell_type": "markdown",
   "id": "737b17dd",
   "metadata": {},
   "source": [
    "The 'TRAIN_FLAGS', 'CLASSIFIER_FLAGS' and 'DATA_FLAGS' respectively set the training parameters, the classifier hyperparameters and the directories where the training and validation data are.\n",
    "\n",
    "The default values indicated below correspond to the hyperparameters indicated in the Appendix to the paper."
   ]
  },
  {
   "cell_type": "code",
   "execution_count": null,
   "id": "a0dc6606",
   "metadata": {},
   "outputs": [],
   "source": [
    "TRAIN_FLAGS=\"--iterations 300000 --anneal_lr True --batch_size 8 --lr 3e-4 --save_interval 10000 --weight_decay 0.05\"\n",
    "CLASSIFIER_FLAGS=\"--image_size 64 --classifier_attention_resolutions 32,16,8 --classifier_depth 2 --classifier_width 128 --classifier_pool attention --classifier_resblock_updown True --classifier_use_scale_shift_norm True\""
   ]
  },
  {
   "cell_type": "markdown",
   "id": "a6a7c491",
   "metadata": {},
   "source": [
    "In order to run the training, make sure you have placed the data folder at the root of this directory.\n",
    "\n",
    "All the images and the label array must be altogether in the same folder (done by default in the data directory that we provide you with)."
   ]
  },
  {
   "cell_type": "code",
   "execution_count": null,
   "id": "c116a8cd",
   "metadata": {},
   "outputs": [],
   "source": [
    "DATA_FLAGS=\"--data_dir ./data/dataset_3_class/training_data --val_data_dir ./data/dataset_3_class/validation_data --noised True\""
   ]
  },
  {
   "cell_type": "code",
   "execution_count": null,
   "id": "49df8c67",
   "metadata": {},
   "outputs": [],
   "source": [
    "%run scripts/classifier_floating_mat_train.py $TRAIN_FLAGS $CLASSIFIER_FLAGS $DATA_FLAGS"
   ]
  },
  {
   "cell_type": "markdown",
   "id": "069c9969",
   "metadata": {},
   "source": [
    "By the end of the training, you should get in the class_logdir a series of checkpoints. You can then use the last checkpoint as the classifier when sampling from TopoDiff (see the notebook **4_TopoDiff_sample**)."
   ]
  }
 ],
 "metadata": {
  "kernelspec": {
   "display_name": "topodiff",
   "language": "python",
   "name": "python3"
  },
  "language_info": {
   "codemirror_mode": {
    "name": "ipython",
    "version": 3
   },
   "file_extension": ".py",
   "mimetype": "text/x-python",
   "name": "python",
   "nbconvert_exporter": "python",
   "pygments_lexer": "ipython3",
   "version": "3.12.8"
  }
 },
 "nbformat": 4,
 "nbformat_minor": 5
}
