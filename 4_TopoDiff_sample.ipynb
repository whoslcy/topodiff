{
 "cells": [
  {
   "cell_type": "markdown",
   "id": "4840f427",
   "metadata": {},
   "source": [
    "# TopoDiff sample"
   ]
  },
  {
   "attachments": {},
   "cell_type": "markdown",
   "id": "8e9ae12d",
   "metadata": {},
   "source": [
    "#### This notebook aims to launch a generation of topologies by TopoDiff, with a set of constraints given as input. Three trained models are needed to sample from TopoDiff: the main diffusion model, the classifier and the regressor. To load the trained models, you must specify the location of the checkpoints (either downloaded or gotten from your own trainings)."
   ]
  },
  {
   "cell_type": "code",
   "execution_count": null,
   "id": "02a50a8d",
   "metadata": {},
   "outputs": [],
   "source": [
    "import torch as th\n",
    "import numpy as np\n",
    "import matplotlib.pyplot as plt\n",
    "import os\n",
    "import pytorch_fid\n",
    "import cv2\n",
    "import sys"
   ]
  },
  {
   "cell_type": "markdown",
   "id": "af158422",
   "metadata": {},
   "source": [
    "The environment variable 'TOPODIFF_LOGDIR' defines the directory where the logs and generated topologies will be saved."
   ]
  },
  {
   "cell_type": "code",
   "execution_count": null,
   "id": "ddfa94a6",
   "metadata": {},
   "outputs": [],
   "source": [
    "os.environ['TOPODIFF_LOGDIR'] = './generated'"
   ]
  },
  {
   "cell_type": "markdown",
   "id": "cb242b8b",
   "metadata": {},
   "source": [
    "The 'MODEL_FLAGS' and 'DIFFUSION_FLAGS' set the model and diffusion hyperparameters. They need to fit with the parameters that were used when training the corresponding models.\n",
    "\n",
    "The default values indicated below correspond to the hyperparameters indicated in the Appendix to the paper."
   ]
  },
  {
   "cell_type": "code",
   "execution_count": null,
   "id": "d6e16466",
   "metadata": {},
   "outputs": [],
   "source": [
    "MODEL_FLAGS=\"--image_size 64 --num_channels 128 --num_res_blocks 3 --learn_sigma True --dropout 0.3 --use_fp16 True\"\n",
    "DIFFUSION_FLAGS=\"--diffusion_steps 1000 --timestep_respacing 100 --noise_schedule cosine\""
   ]
  },
  {
   "cell_type": "markdown",
   "id": "2d50d4c0",
   "metadata": {},
   "source": [
    "The 'DATA_FLAGS' indicate the directory where the input constraints are. All inputs (physical fields, load arrays, boundary conditions arrays) need to be in the same directory (done by default in the data directory that we provide you with).\n",
    "\n",
    "**You may change the 'DATA_FLAGS' to sample from the level 1 or level 2 test set.**"
   ]
  },
  {
   "cell_type": "code",
   "execution_count": null,
   "id": "d7ab55cb",
   "metadata": {},
   "outputs": [],
   "source": [
    "DATA_FLAGS=\"--constraints_path ./data/dataset_1_diff/test_data_level_1 --num_samples 5\""
   ]
  },
  {
   "cell_type": "markdown",
   "id": "a7ed17d8",
   "metadata": {},
   "source": [
    "The 'CHECKPOINTS_FLAGS' indicate where the checkpoints for the diffusion model, the regressor and the classifier are. **You need to indicate the directory where the trained models are.**"
   ]
  },
  {
   "cell_type": "code",
   "execution_count": null,
   "id": "c4b987a9",
   "metadata": {},
   "outputs": [],
   "source": [
    "CHECKPOINTS_FLAGS=\"--model_path ./checkpoints/TO_INDICATE --regressor_path ./checkpoints/TO_INDICATE --fm_classifier_path ./checkpoints/TO_INDICATE\""
   ]
  },
  {
   "cell_type": "code",
   "execution_count": null,
   "id": "d2abf0a1",
   "metadata": {},
   "outputs": [],
   "source": [
    "%run scripts/topodiff_sample.py --regressor_scale 4.0 --classifier_fm_scale 3.0 $MODEL_FLAGS $DIFFUSION_FLAGS $DATA_FLAGS $CHECKPOINTS_FLAGS"
   ]
  },
  {
   "cell_type": "markdown",
   "id": "3e401336",
   "metadata": {},
   "source": [
    "*Note: TopoDiff generates the topologies in a different order than the file names. We therefore recommend you use the notebook 5_analysis.ipynb to conduct the analysis of the results.*"
   ]
  }
 ],
 "metadata": {
  "kernelspec": {
   "display_name": "Python 3 (ipykernel)",
   "language": "python",
   "name": "python3"
  },
  "language_info": {
   "codemirror_mode": {
    "name": "ipython",
    "version": 3
   },
   "file_extension": ".py",
   "mimetype": "text/x-python",
   "name": "python",
   "nbconvert_exporter": "python",
   "pygments_lexer": "ipython3",
   "version": "3.10.8"
  }
 },
 "nbformat": 4,
 "nbformat_minor": 5
}
