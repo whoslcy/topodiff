{
 "cells": [
  {
   "cell_type": "markdown",
   "id": "36dba174",
   "metadata": {},
   "source": [
    "# Compliance regressor training"
   ]
  },
  {
   "cell_type": "markdown",
   "id": "19d74bbe",
   "metadata": {},
   "source": [
    "#### This notebook aims to launch the training of the regressor predicting the compliance. This regressor is used in TopoDiff to guide the model in the direction of its gradient."
   ]
  },
  {
   "cell_type": "code",
   "execution_count": null,
   "id": "d5536140",
   "metadata": {},
   "outputs": [],
   "source": [
    "# import torch as th\n",
    "# import numpy as np\n",
    "# import matplotlib.pyplot as plt\n",
    "import os\n",
    "# import sys"
   ]
  },
  {
   "cell_type": "markdown",
   "id": "b592d71f",
   "metadata": {},
   "source": [
    "The environment variable 'TOPODIFF_LOGDIR' defines the directory where the logs and model checkpoints will be saved."
   ]
  },
  {
   "cell_type": "code",
   "execution_count": null,
   "id": "ec846f05",
   "metadata": {},
   "outputs": [],
   "source": [
    "os.environ['TOPODIFF_LOGDIR'] = './reg_logdir'"
   ]
  },
  {
   "cell_type": "markdown",
   "id": "83da70ef",
   "metadata": {},
   "source": [
    "The 'TRAIN_FLAGS', 'REGRESSOR_FLAGS' and 'DATA_FLAGS' respectively set the training parameters, the regressor hyperparameters and the directories where the training and validation data are.\n",
    "\n",
    "The default values indicated below correspond to the hyperparameters indicated in the Appendix to the paper."
   ]
  },
  {
   "cell_type": "code",
   "execution_count": null,
   "id": "a0dc6606",
   "metadata": {},
   "outputs": [],
   "source": [
    "TRAIN_FLAGS=\"--iterations 400000 --anneal_lr True --batch_size 64 --lr 3e-4 --save_interval 10000 --weight_decay 0.05 --regressor_use_fp16 True\"\n",
    "REGRESSOR_FLAGS=\"--image_size 64 --regressor_attention_resolutions 32,16,8 --regressor_width 128 --regressor_resblock_updown True --regressor_use_scale_shift_norm True\""
   ]
  },
  {
   "cell_type": "markdown",
   "id": "74b10c6a",
   "metadata": {},
   "source": [
    "In order to run the training, make sure you have placed the data folder at the root of this directory.\n",
    "\n",
    "All the images, physical fields, load arrays, boundary conditions arrays and the compliance array must be altogether in the same folder (done by default in the data directory that we provide you with)."
   ]
  },
  {
   "cell_type": "code",
   "execution_count": null,
   "id": "0a7ff4ab",
   "metadata": {},
   "outputs": [],
   "source": [
    "DATA_FLAGS=\"--data_dir ./data/dataset_2_reg/training_data --val_data_dir ./data/dataset_2_reg/validation_data --noised True\""
   ]
  },
  {
   "cell_type": "code",
   "execution_count": null,
   "id": "49df8c67",
   "metadata": {},
   "outputs": [],
   "source": [
    "%run scripts/regressor_train.py $TRAIN_FLAGS $REGRESSOR_FLAGS $DATA_FLAGS"
   ]
  },
  {
   "cell_type": "markdown",
   "id": "9a5152c8",
   "metadata": {},
   "source": [
    "By the end of the training, you should get in the reg_logdir a series of checkpoints. You can then use the last checkpoint as the regressor when sampling from TopoDiff (see the notebook **4_TopoDiff_sample**)."
   ]
  }
 ],
 "metadata": {
  "kernelspec": {
   "display_name": "topodiff",
   "language": "python",
   "name": "python3"
  },
  "language_info": {
   "codemirror_mode": {
    "name": "ipython",
    "version": 3
   },
   "file_extension": ".py",
   "mimetype": "text/x-python",
   "name": "python",
   "nbconvert_exporter": "python",
   "pygments_lexer": "ipython3",
   "version": "3.12.8"
  }
 },
 "nbformat": 4,
 "nbformat_minor": 5
}
